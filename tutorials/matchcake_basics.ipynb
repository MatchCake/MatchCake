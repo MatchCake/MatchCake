{
 "cells": [
  {
   "cell_type": "markdown",
   "source": [
    "# MatchCake Example\n"
   ],
   "metadata": {
    "collapsed": false
   },
   "id": "67490938193e7ba6"
  },
  {
   "cell_type": "markdown",
   "source": [
    "<table class=\"nt-notebook-buttons\" align=\"center\">\n",
    "  <td>\n",
    "    <a target=\"_blank\" href=\"https://MatchCake.github.io/MatchCake/\"><img src=\"https://github.com/MatchCake/MatchCake/blob/main/images/logo/logo_32px.png?raw=true\" width=32px height=32px  />Documentation</a>\n",
    "  </td>\n",
    "  <td>\n",
    "    <a target=\"_blank\" href=\"https://colab.research.google.com/github/MatchCake/MatchCake/blob/main/tutorials/matchcake_basics.ipynb\"><img src=\"https://github.com/MatchCake/MatchCake/blob/main/images/logo/colab_logo_32px.png?raw=true\" width=32px height=32px  />Run in Google Colab</a>\n",
    "</td>\n",
    "  <td>\n",
    "    <a target=\"_blank\" href=\"https://github.com/MatchCake/MatchCake/blob/main/tutorials/matchcake_basics.ipynb\"><img src=\"https://github.githubassets.com/images/modules/logos_page/GitHub-Mark.png\" width=32px height=32px />View source on GitHub</a>\n",
    "  </td>\n",
    "  <td>\n",
    "    <a href=\"https://storage.googleapis.com/MatchCake/MatchCake/blob/main/tutorials/iris_classification.ipynb\"><img src=\"https://github.com/MatchCake/MatchCake/blob/main/images/logo/download_logo_32px.png?raw=true\" width=32px height=32px />Download notebook</a>\n",
    "  </td>\n",
    "</table>"
   ],
   "metadata": {
    "collapsed": false
   },
   "id": "dab85bf0314effd6"
  },
  {
   "cell_type": "markdown",
   "source": [
    "In this example, we will use the `matchcake` library to create a simple quantum circuit using the `NonInteractingFermionicDevice` and the `fRXX`, `fRYY`, `fRZZ`, and `fSWAP` operations. We will then use PennyLane to create a QNode and evaluate the expectation value of the circuit."
   ],
   "metadata": {
    "collapsed": false
   },
   "id": "1cf3d3392e6a2002"
  },
  {
   "cell_type": "markdown",
   "source": [
    "# Setup"
   ],
   "metadata": {
    "collapsed": false
   },
   "id": "37bd418bf3d851e9"
  },
  {
   "cell_type": "markdown",
   "source": [
    "You can now install the dependencies by running the following commands:"
   ],
   "metadata": {
    "collapsed": false
   },
   "id": "bca3fc59dbde53a"
  },
  {
   "cell_type": "code",
   "outputs": [],
   "source": [
    "#@title Install dependencies {display-mode: \"form\"}\n",
    "\n",
    "RunningInCOLAB = 'google.colab' in str(get_ipython()) if hasattr(__builtins__,'__IPYTHON__') else False\n",
    "\n",
    "if RunningInCOLAB:\n",
    "    !git clone https://github.com/MatchCake/MatchCake.git\n",
    "    %cd MatchCake/\n",
    "else:\n",
    "    !pip install -r requirements.txt\n",
    "\n",
    "!pip install git+https://github.com/MatchCake/MatchCake.git"
   ],
   "metadata": {
    "collapsed": false
   },
   "id": "aa2d8bacfe7ca933"
  },
  {
   "cell_type": "markdown",
   "source": [
    "# Imports\n",
    "\n",
    "We start by importing the necessary libraries."
   ],
   "metadata": {
    "collapsed": false
   },
   "id": "d8707fa9425dbcdf"
  },
  {
   "cell_type": "code",
   "execution_count": 1,
   "id": "initial_id",
   "metadata": {
    "collapsed": true,
    "ExecuteTime": {
     "end_time": "2024-03-13T14:54:55.870824900Z",
     "start_time": "2024-03-13T14:54:52.516824800Z"
    }
   },
   "outputs": [],
   "source": [
    "import matchcake as mc\n",
    "import pennylane as qml\n",
    "import numpy as np\n",
    "from pennylane.ops.qubit.observables import BasisStateProjector"
   ]
  },
  {
   "cell_type": "markdown",
   "source": [
    "# Create the NonInteractingFermionicDevice\n",
    "\n",
    "We start by creating a `NonInteractingFermionicDevice` with 4 wires. We also define the initial state as the zero state."
   ],
   "metadata": {
    "collapsed": false
   },
   "id": "b19216c94bf8ac91"
  },
  {
   "cell_type": "code",
   "outputs": [],
   "source": [
    "nif_device = mc.NonInteractingFermionicDevice(wires=4)\n",
    "initial_state = np.zeros(len(nif_device.wires), dtype=int)"
   ],
   "metadata": {
    "collapsed": false,
    "ExecuteTime": {
     "end_time": "2024-03-13T14:54:55.886297100Z",
     "start_time": "2024-03-13T14:54:55.872827300Z"
    }
   },
   "id": "24b2e502a4665a83",
   "execution_count": 2
  },
  {
   "cell_type": "markdown",
   "source": [
    "# Define the circuit\n",
    "\n",
    "We define a simple circuit that applies the `fRXX`, `fRYY`, `fRZZ`, and `fSWAP` operations to the initial state. We also include a `BasisStateProjector` to measure the expectation value of the circuit."
   ],
   "metadata": {
    "collapsed": false
   },
   "id": "475f74d8c9a9c3f0"
  },
  {
   "cell_type": "code",
   "outputs": [],
   "source": [
    "def circuit(params, wires, initial_state=None):\n",
    "    qml.BasisState(initial_state, wires=wires)\n",
    "    for i, even_wire in enumerate(wires[:-1:2]):\n",
    "        idx = list(wires).index(even_wire)\n",
    "        curr_wires = [wires[idx], wires[idx + 1]]\n",
    "        mc.operations.fRXX(params, wires=curr_wires)\n",
    "        mc.operations.fRYY(params, wires=curr_wires)\n",
    "        mc.operations.fRZZ(params, wires=curr_wires)\n",
    "    for i, odd_wire in enumerate(wires[1:-1:2]):\n",
    "        idx = list(wires).index(odd_wire)\n",
    "        mc.operations.fSWAP(wires=[wires[idx], wires[idx + 1]])\n",
    "    projector: BasisStateProjector = qml.Projector(initial_state, wires=wires)\n",
    "    return qml.expval(projector)"
   ],
   "metadata": {
    "collapsed": false,
    "ExecuteTime": {
     "end_time": "2024-03-13T14:54:55.906230200Z",
     "start_time": "2024-03-13T14:54:55.889285600Z"
    }
   },
   "id": "353f8967fd227e01",
   "execution_count": 3
  },
  {
   "cell_type": "markdown",
   "source": [
    "# Create the QNode\n",
    "\n",
    "We create a QNode using PennyLane and the `NonInteractingFermionicDevice` we defined earlier."
   ],
   "metadata": {
    "collapsed": false
   },
   "id": "be7c94e98526a6b0"
  },
  {
   "cell_type": "code",
   "outputs": [],
   "source": [
    "nif_qnode = qml.QNode(circuit, nif_device)"
   ],
   "metadata": {
    "collapsed": false,
    "ExecuteTime": {
     "end_time": "2024-03-13T14:54:55.917198200Z",
     "start_time": "2024-03-13T14:54:55.903239500Z"
    }
   },
   "id": "7b335f1c6ca4cf6a",
   "execution_count": 4
  },
  {
   "cell_type": "markdown",
   "source": [
    "# Draw the circuit\n",
    "\n",
    "We can draw the circuit using PennyLane's `draw_mpl` function."
   ],
   "metadata": {
    "collapsed": false
   },
   "id": "101cad15d0de4722"
  },
  {
   "cell_type": "code",
   "outputs": [
    {
     "data": {
      "text/plain": "(<Figure size 800x500 with 1 Axes>, <Axes: >)"
     },
     "execution_count": 5,
     "metadata": {},
     "output_type": "execute_result"
    },
    {
     "data": {
      "text/plain": "<Figure size 800x500 with 1 Axes>",
      "image/png": "[encoded data removed]"
     },
     "metadata": {},
     "output_type": "display_data"
    }
   ],
   "source": [
    "qml.draw_mpl(nif_qnode)(np.array([0.1, 0.2]), wires=nif_device.wires, initial_state=initial_state)"
   ],
   "metadata": {
    "collapsed": false,
    "ExecuteTime": {
     "end_time": "2024-03-13T14:54:56.038328100Z",
     "start_time": "2024-03-13T14:54:55.918189200Z"
    }
   },
   "id": "2cf8300c7b7178bd",
   "execution_count": 5
  },
  {
   "cell_type": "markdown",
   "source": [
    "# Evaluate the QNode\n",
    "\n",
    "We can now evaluate the QNode using some random parameters."
   ],
   "metadata": {
    "collapsed": false
   },
   "id": "f2ceabb229f93cb6"
  },
  {
   "cell_type": "code",
   "outputs": [],
   "source": [
    "params = np.random.random(2)"
   ],
   "metadata": {
    "collapsed": false,
    "ExecuteTime": {
     "end_time": "2024-03-13T14:54:56.101634700Z",
     "start_time": "2024-03-13T14:54:56.040326700Z"
    }
   },
   "id": "6f5464782e7503ec",
   "execution_count": 6
  },
  {
   "cell_type": "code",
   "outputs": [],
   "source": [
    "expval = nif_qnode(params, wires=nif_device.wires, initial_state=initial_state)"
   ],
   "metadata": {
    "collapsed": false,
    "ExecuteTime": {
     "end_time": "2024-03-13T14:54:56.104623700Z",
     "start_time": "2024-03-13T14:54:56.055271200Z"
    }
   },
   "id": "b25e893e05a47dc",
   "execution_count": 7
  },
  {
   "cell_type": "markdown",
   "source": [
    "# Print the expectation value\n",
    "\n",
    "We print the expectation value of the circuit."
   ],
   "metadata": {
    "collapsed": false
   },
   "id": "ede80e87cac19332"
  },
  {
   "cell_type": "code",
   "outputs": [
    {
     "name": "stdout",
     "output_type": "stream",
     "text": [
      "Expectation value: 0.9772074453829572\n"
     ]
    }
   ],
   "source": [
    "print(f\"Expectation value: {expval}\")"
   ],
   "metadata": {
    "collapsed": false,
    "ExecuteTime": {
     "end_time": "2024-03-13T14:54:56.105620700Z",
     "start_time": "2024-03-13T14:54:56.085686900Z"
    }
   },
   "id": "9c804bf38bf16594",
   "execution_count": 8
  },
  {
   "cell_type": "code",
   "outputs": [],
   "source": [],
   "metadata": {
    "collapsed": false,
    "ExecuteTime": {
     "end_time": "2024-03-13T14:54:56.190854900Z",
     "start_time": "2024-03-13T14:54:56.101634700Z"
    }
   },
   "id": "13509a17ae2478f5",
   "execution_count": 8
  }
 ],
 "metadata": {
  "kernelspec": {
   "display_name": "Python 3",
   "language": "python",
   "name": "python3"
  },
  "language_info": {
   "codemirror_mode": {
    "name": "ipython",
    "version": 2
   },
   "file_extension": ".py",
   "mimetype": "text/x-python",
   "name": "python",
   "nbconvert_exporter": "python",
   "pygments_lexer": "ipython2",
   "version": "2.7.6"
  }
 },
 "nbformat": 4,
 "nbformat_minor": 5
}
