{
 "cells": [
  {
   "cell_type": "markdown",
   "source": [
    "# MatchCake Example\n",
    "\n",
    "In this example, we will use the `matchcake` library to create a simple quantum circuit using the `NonInteractingFermionicDevice` and the `fRXX`, `fRYY`, `fRZZ`, and `fSWAP` operations. We will then use PennyLane to create a QNode and evaluate the expectation value of the circuit."
   ],
   "metadata": {
    "collapsed": false
   },
   "id": "67490938193e7ba6"
  },
  {
   "cell_type": "markdown",
   "source": [
    "# Imports\n",
    "\n",
    "We start by importing the necessary libraries."
   ],
   "metadata": {
    "collapsed": false
   },
   "id": "d8707fa9425dbcdf"
  },
  {
   "cell_type": "code",
   "execution_count": null,
   "id": "initial_id",
   "metadata": {
    "collapsed": true
   },
   "outputs": [],
   "source": [
    "import matchcake as mc\n",
    "import pennylane as qml\n",
    "import numpy as np\n",
    "from pennylane.ops.qubit.observables import BasisStateProjector"
   ]
  },
  {
   "cell_type": "markdown",
   "source": [
    "# Create the NonInteractingFermionicDevice\n",
    "\n",
    "We start by creating a `NonInteractingFermionicDevice` with 4 wires. We also define the initial state as the zero state."
   ],
   "metadata": {
    "collapsed": false
   },
   "id": "b19216c94bf8ac91"
  },
  {
   "cell_type": "code",
   "outputs": [],
   "source": [
    "nif_device = mc.NonInteractingFermionicDevice(wires=4)\n",
    "initial_state = np.zeros(len(nif_device.wires), dtype=int)"
   ],
   "metadata": {
    "collapsed": false
   },
   "id": "24b2e502a4665a83",
   "execution_count": null
  },
  {
   "cell_type": "markdown",
   "source": [
    "# Define the circuit\n",
    "\n",
    "We define a simple circuit that applies the `fRXX`, `fRYY`, `fRZZ`, and `fSWAP` operations to the initial state. We also include a `BasisStateProjector` to measure the expectation value of the circuit."
   ],
   "metadata": {
    "collapsed": false
   },
   "id": "475f74d8c9a9c3f0"
  },
  {
   "cell_type": "code",
   "outputs": [],
   "source": [
    "def circuit(params, wires, initial_state=None):\n",
    "    qml.BasisState(initial_state, wires=wires)\n",
    "    for i, even_wire in enumerate(wires[:-1:2]):\n",
    "        idx = list(wires).index(even_wire)\n",
    "        curr_wires = [wires[idx], wires[idx + 1]]\n",
    "        mc.operations.fRXX(params, wires=curr_wires)\n",
    "        mc.operations.fRYY(params, wires=curr_wires)\n",
    "        mc.operations.fRZZ(params, wires=curr_wires)\n",
    "    for i, odd_wire in enumerate(wires[1:-1:2]):\n",
    "        idx = list(wires).index(odd_wire)\n",
    "        mc.operations.fSWAP(wires=[wires[idx], wires[idx + 1]])\n",
    "    projector: BasisStateProjector = qml.Projector(initial_state, wires=wires)\n",
    "    return qml.expval(projector)"
   ],
   "metadata": {
    "collapsed": false
   },
   "id": "353f8967fd227e01",
   "execution_count": null
  },
  {
   "cell_type": "markdown",
   "source": [
    "# Create the QNode\n",
    "\n",
    "We create a QNode using PennyLane and the `NonInteractingFermionicDevice` we defined earlier."
   ],
   "metadata": {
    "collapsed": false
   },
   "id": "be7c94e98526a6b0"
  },
  {
   "cell_type": "code",
   "outputs": [],
   "source": [
    "nif_qnode = qml.QNode(circuit, nif_device)"
   ],
   "metadata": {
    "collapsed": false
   },
   "id": "7b335f1c6ca4cf6a",
   "execution_count": null
  },
  {
   "cell_type": "markdown",
   "source": [
    "# Draw the circuit\n",
    "\n",
    "We can draw the circuit using PennyLane's `draw_mpl` function."
   ],
   "metadata": {
    "collapsed": false
   },
   "id": "101cad15d0de4722"
  },
  {
   "cell_type": "code",
   "outputs": [],
   "source": [
    "qml.draw_mpl(nif_qnode)(np.array([0.1, 0.2]), wires=nif_device.wires, initial_state=initial_state)"
   ],
   "metadata": {
    "collapsed": false
   },
   "id": "2cf8300c7b7178bd",
   "execution_count": null
  },
  {
   "cell_type": "markdown",
   "source": [
    "# Evaluate the QNode\n",
    "\n",
    "We can now evaluate the QNode using some random parameters."
   ],
   "metadata": {
    "collapsed": false
   },
   "id": "f2ceabb229f93cb6"
  },
  {
   "cell_type": "code",
   "outputs": [],
   "source": [
    "params = np.random.random(2)"
   ],
   "metadata": {
    "collapsed": false
   },
   "id": "6f5464782e7503ec",
   "execution_count": null
  },
  {
   "cell_type": "code",
   "outputs": [],
   "source": [
    "expval = nif_qnode(params, wires=nif_device.wires, initial_state=initial_state)"
   ],
   "metadata": {
    "collapsed": false
   },
   "id": "b25e893e05a47dc",
   "execution_count": null
  },
  {
   "cell_type": "markdown",
   "source": [
    "# Print the expectation value\n",
    "\n",
    "We print the expectation value of the circuit."
   ],
   "metadata": {
    "collapsed": false
   },
   "id": "ede80e87cac19332"
  },
  {
   "cell_type": "code",
   "outputs": [],
   "source": [
    "print(f\"Expectation value: {expval}\")"
   ],
   "metadata": {
    "collapsed": false
   },
   "id": "9c804bf38bf16594",
   "execution_count": null
  },
  {
   "cell_type": "code",
   "outputs": [],
   "source": [],
   "metadata": {
    "collapsed": false
   },
   "id": "13509a17ae2478f5"
  }
 ],
 "metadata": {
  "kernelspec": {
   "display_name": "Python 3",
   "language": "python",
   "name": "python3"
  },
  "language_info": {
   "codemirror_mode": {
    "name": "ipython",
    "version": 2
   },
   "file_extension": ".py",
   "mimetype": "text/x-python",
   "name": "python",
   "nbconvert_exporter": "python",
   "pygments_lexer": "ipython2",
   "version": "2.7.6"
  }
 },
 "nbformat": 4,
 "nbformat_minor": 5
}
