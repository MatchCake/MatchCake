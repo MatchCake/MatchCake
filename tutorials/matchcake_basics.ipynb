{
 "cells": [
  {
   "cell_type": "markdown",
   "source": [
    "# MatchCake Example\n"
   ],
   "metadata": {
    "collapsed": false
   },
   "id": "67490938193e7ba6"
  },
  {
   "cell_type": "markdown",
   "source": [
    "<table class=\"nt-notebook-buttons\" align=\"center\">\n",
    "  <td>\n",
    "    <a target=\"_blank\" href=\"https://MatchCake.github.io/MatchCake/\"><img src=\"https://github.com/MatchCake/MatchCake/blob/main/images/logo/logo_32px.png?raw=true\" width=32px height=32px  />Documentation</a>\n",
    "  </td>\n",
    "  <td>\n",
    "    <a target=\"_blank\" href=\"https://colab.research.google.com/github/MatchCake/MatchCake/blob/main/tutorials/matchcake_basics.ipynb\"><img src=\"https://github.com/MatchCake/MatchCake/blob/main/images/logo/colab_logo_32px.png?raw=true\" width=32px height=32px  />Run in Google Colab</a>\n",
    "</td>\n",
    "  <td>\n",
    "    <a target=\"_blank\" href=\"https://github.com/MatchCake/MatchCake/blob/main/tutorials/matchcake_basics.ipynb\"><img src=\"https://github.githubassets.com/images/modules/logos_page/GitHub-Mark.png\" width=32px height=32px />View source on GitHub</a>\n",
    "  </td>\n",
    "  <td>\n",
    "    <a href=\"https://storage.googleapis.com/MatchCake/MatchCake/blob/main/tutorials/iris_classification.ipynb\"><img src=\"https://github.com/MatchCake/MatchCake/blob/main/images/logo/download_logo_32px.png?raw=true\" width=32px height=32px />Download notebook</a>\n",
    "  </td>\n",
    "</table>"
   ],
   "metadata": {
    "collapsed": false
   },
   "id": "dab85bf0314effd6"
  },
  {
   "cell_type": "markdown",
   "source": [
    "In this example, we will use the `matchcake` library to create a simple quantum circuit using the `NonInteractingFermionicDevice` and the `fRXX`, `fRYY`, `fRZZ`, and `fSWAP` operations. We will then use PennyLane to create a QNode and evaluate the expectation value of the circuit."
   ],
   "metadata": {
    "collapsed": false
   },
   "id": "1cf3d3392e6a2002"
  },
  {
   "cell_type": "markdown",
   "source": [
    "# Setup"
   ],
   "metadata": {
    "collapsed": false
   },
   "id": "37bd418bf3d851e9"
  },
  {
   "cell_type": "markdown",
   "source": [
    "You can now install the dependencies by running the following commands:"
   ],
   "metadata": {
    "collapsed": false
   },
   "id": "bca3fc59dbde53a"
  },
  {
   "cell_type": "code",
   "source": [
    "#@title Install dependencies {display-mode: \"form\"}\n",
    "\n",
    "RunningInCOLAB = 'google.colab' in str(get_ipython()) if hasattr(__builtins__,'__IPYTHON__') else False\n",
    "\n",
    "if RunningInCOLAB:\n",
    "    !pip install matchcake"
   ],
   "metadata": {
    "collapsed": false
   },
   "id": "aa2d8bacfe7ca933",
   "outputs": [],
   "execution_count": null
  },
  {
   "cell_type": "markdown",
   "source": [
    "# Imports\n",
    "\n",
    "We start by importing the necessary libraries."
   ],
   "metadata": {
    "collapsed": false
   },
   "id": "d8707fa9425dbcdf"
  },
  {
   "cell_type": "code",
   "id": "initial_id",
   "metadata": {
    "collapsed": true
   },
   "source": [
    "import matchcake as mc\n",
    "import pennylane as qml\n",
    "import numpy as np\n",
    "from pennylane.ops.qubit.observables import BasisStateProjector"
   ],
   "outputs": [],
   "execution_count": null
  },
  {
   "cell_type": "markdown",
   "source": [
    "# Create the NonInteractingFermionicDevice\n",
    "\n",
    "We start by creating a `NonInteractingFermionicDevice` with 4 wires. We also define the initial state as the zero state."
   ],
   "metadata": {
    "collapsed": false
   },
   "id": "b19216c94bf8ac91"
  },
  {
   "cell_type": "code",
   "source": [
    "nif_device = mc.NonInteractingFermionicDevice(wires=10, show_progress=True)\n",
    "initial_state = np.zeros(len(nif_device.wires), dtype=int)"
   ],
   "metadata": {
    "collapsed": false
   },
   "id": "24b2e502a4665a83",
   "outputs": [],
   "execution_count": null
  },
  {
   "cell_type": "markdown",
   "source": [
    "# Define the circuit\n",
    "\n",
    "We define a simple circuit that applies the `fRXX`, `fRYY`, `fRZZ`, and `fSWAP` operations to the initial state. We also include a `BasisStateProjector` to measure the expectation value of the circuit."
   ],
   "metadata": {
    "collapsed": false
   },
   "id": "475f74d8c9a9c3f0"
  },
  {
   "cell_type": "code",
   "source": [
    "def circuit(params, wires, initial_state=None):\n",
    "    \"\"\"\n",
    "    Circuit that applies the fRXX, fRYY, fRZZ, and fSWAP operations to the initial state.\n",
    "    \n",
    "    :param params: The parameters of the circuit. It should have shape (batch_size, 2, n_layers). \n",
    "    :param wires: The wires of the circuit.\n",
    "    :param initial_state: The initial state of the circuit. It should be a numpy array with shape (len(wires),) of zeros and ones.\n",
    "    :return: The expectation value of the circuit.\n",
    "    \"\"\"\n",
    "    qml.BasisState(initial_state, wires=wires)\n",
    "    batch_size, n_gate_params, n_layers = qml.math.shape(params)\n",
    "    if n_gate_params != 2:\n",
    "        raise ValueError(\"The number of gate parameters should be 2.\")\n",
    "    for layer in range(n_layers):\n",
    "        layer_params = params[..., layer]\n",
    "        for i, even_wire in enumerate(wires[:-1:2]):\n",
    "            idx = list(wires).index(even_wire)\n",
    "            curr_wires = [wires[idx], wires[idx + 1]]\n",
    "            mc.operations.fRXX(layer_params, wires=curr_wires)\n",
    "            mc.operations.fRYY(layer_params, wires=curr_wires)\n",
    "            mc.operations.fRZZ(layer_params, wires=curr_wires)\n",
    "        for i, odd_wire in enumerate(wires[1:-1:2]):\n",
    "            idx = list(wires).index(odd_wire)\n",
    "            mc.operations.fSWAP(wires=[wires[idx], wires[idx + 1]])\n",
    "    projector: BasisStateProjector = qml.Projector(initial_state, wires=wires)\n",
    "    return qml.expval(projector)"
   ],
   "metadata": {
    "collapsed": false
   },
   "id": "353f8967fd227e01",
   "outputs": [],
   "execution_count": null
  },
  {
   "cell_type": "markdown",
   "source": [
    "# Create the QNode\n",
    "\n",
    "We create a QNode using PennyLane and the `NonInteractingFermionicDevice` we defined earlier."
   ],
   "metadata": {
    "collapsed": false
   },
   "id": "be7c94e98526a6b0"
  },
  {
   "cell_type": "code",
   "source": [
    "nif_qnode = qml.QNode(circuit, nif_device)"
   ],
   "metadata": {
    "collapsed": false
   },
   "id": "7b335f1c6ca4cf6a",
   "outputs": [],
   "execution_count": null
  },
  {
   "cell_type": "markdown",
   "source": [
    "# Define the hyperparameters of the circuit"
   ],
   "metadata": {
    "collapsed": false
   },
   "id": "bc4fb3e1968dc23e"
  },
  {
   "cell_type": "code",
   "source": [
    "n_layers = 3  # Number of layers\n",
    "n_gate_params = 2  # Number of parameters per gate"
   ],
   "metadata": {
    "collapsed": false
   },
   "id": "32e60f86cf44b585",
   "outputs": [],
   "execution_count": null
  },
  {
   "cell_type": "markdown",
   "source": [
    "# Draw the circuit\n",
    "\n",
    "We can draw the circuit using PennyLane's `draw_mpl` function."
   ],
   "metadata": {
    "collapsed": false
   },
   "id": "101cad15d0de4722"
  },
  {
   "cell_type": "code",
   "source": [
    "dummy_params = np.random.random((1, n_gate_params, n_layers))\n",
    "qml.draw_mpl(nif_qnode)(dummy_params, wires=nif_device.wires, initial_state=initial_state)"
   ],
   "metadata": {
    "collapsed": false
   },
   "id": "2cf8300c7b7178bd",
   "outputs": [],
   "execution_count": null
  },
  {
   "cell_type": "markdown",
   "source": [
    "# Evaluate the QNode\n",
    "\n",
    "We can now evaluate the QNode using some random parameters and a batch size of 4."
   ],
   "metadata": {
    "collapsed": false
   },
   "id": "f2ceabb229f93cb6"
  },
  {
   "cell_type": "code",
   "source": [
    "params = np.random.random((4, n_gate_params, n_layers))"
   ],
   "metadata": {
    "collapsed": false
   },
   "id": "6f5464782e7503ec",
   "outputs": [],
   "execution_count": null
  },
  {
   "cell_type": "code",
   "source": [
    "expval = nif_qnode(params, wires=nif_device.wires, initial_state=initial_state)"
   ],
   "metadata": {
    "collapsed": false
   },
   "id": "b25e893e05a47dc",
   "outputs": [],
   "execution_count": null
  },
  {
   "cell_type": "markdown",
   "source": [
    "# Print the expectation values\n",
    "\n",
    "We print the expectation values of the circuit."
   ],
   "metadata": {
    "collapsed": false
   },
   "id": "ede80e87cac19332"
  },
  {
   "cell_type": "code",
   "source": [
    "print(f\"Expectation values: {expval}\")"
   ],
   "metadata": {
    "collapsed": false
   },
   "id": "9c804bf38bf16594",
   "outputs": [],
   "execution_count": null
  },
  {
   "cell_type": "code",
   "source": [],
   "metadata": {
    "collapsed": false
   },
   "id": "13509a17ae2478f5",
   "outputs": [],
   "execution_count": null
  }
 ],
 "metadata": {
  "kernelspec": {
   "display_name": "Python 3",
   "language": "python",
   "name": "python3"
  },
  "language_info": {
   "codemirror_mode": {
    "name": "ipython",
    "version": 2
   },
   "file_extension": ".py",
   "mimetype": "text/x-python",
   "name": "python",
   "nbconvert_exporter": "python",
   "pygments_lexer": "ipython2",
   "version": "2.7.6"
  }
 },
 "nbformat": 4,
 "nbformat_minor": 5
}
