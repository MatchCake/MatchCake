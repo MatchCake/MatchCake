{
 "cells": [
  {
   "cell_type": "markdown",
   "source": [
    "# Iris classification with FermionicPQCKernel\n"
   ],
   "metadata": {
    "collapsed": false
   },
   "id": "597a430db567c159"
  },
  {
   "cell_type": "markdown",
   "source": [
    "<table class=\"nt-notebook-buttons\" align=\"center\">\n",
    "  <td>\n",
    "    <a target=\"_blank\" href=\"https://MatchCake.github.io/MatchCake/\"><img src=\"https://github.com/MatchCake/MatchCake/blob/main/images/logo/logo_32px.png?raw=true\" width=32px height=32px  />Documentation</a>\n",
    "  </td>\n",
    "  <td>\n",
    "    <a target=\"_blank\" href=\"https://colab.research.google.com/github/MatchCake/MatchCake/blob/main/tutorials/iris_classification.ipynb\"><img src=\"https://github.com/MatchCake/MatchCake/blob/main/images/logo/colab_logo_32px.png?raw=true\" width=32px height=32px  />Run in Google Colab</a>\n",
    "</td>\n",
    "  <td>\n",
    "    <a target=\"_blank\" href=\"https://github.com/MatchCake/MatchCake/blob/main/tutorials/iris_classification.ipynb\"><img src=\"https://github.githubassets.com/images/modules/logos_page/GitHub-Mark.png\" width=32px height=32px />View source on GitHub</a>\n",
    "  </td>\n",
    "  <td>\n",
    "    <a href=\"https://storage.googleapis.com/MatchCake/MatchCake/blob/main/tutorials/iris_classification.ipynb\"><img src=\"https://github.com/MatchCake/MatchCake/blob/main/images/logo/download_logo_32px.png?raw=true\" width=32px height=32px />Download notebook</a>\n",
    "  </td>\n",
    "</table>"
   ],
   "metadata": {
    "collapsed": false
   },
   "id": "83eb2c4a63d8d939"
  },
  {
   "cell_type": "markdown",
   "source": [
    "In this example, you will see how to do data classification with the `FermionicPQCKernel` using the `FixedSizeSVC` model from the MatchCake package. The `FermionicPQCKernel` is a kernel that encode the data into fermionic RXX and fermionic RZZ gates before using fWAP gate to entangle the nearest neighbors qubits together."
   ],
   "metadata": {
    "collapsed": false
   },
   "id": "3c286b9a049186be"
  },
  {
   "cell_type": "markdown",
   "source": [
    "# Setup"
   ],
   "metadata": {
    "collapsed": false
   },
   "id": "2c13515fefa25e43"
  },
  {
   "cell_type": "markdown",
   "source": [
    "You can now install the dependencies by running the following commands:"
   ],
   "metadata": {
    "collapsed": false
   },
   "id": "d4286995f88febaf"
  },
  {
   "cell_type": "code",
   "outputs": [],
   "source": [
    "#@title Install dependencies {display-mode: \"form\"}\n",
    "\n",
    "RunningInCOLAB = 'google.colab' in str(get_ipython()) if hasattr(__builtins__,'__IPYTHON__') else False\n",
    "\n",
    "if RunningInCOLAB:\n",
    "    !git clone https://github.com/MatchCake/MatchCake.git\n",
    "    %cd MatchCake/\n",
    "else:\n",
    "    !pip install -r requirements.txt\n",
    "\n",
    "!pip install git+https://github.com/MatchCake/MatchCake.git"
   ],
   "metadata": {
    "collapsed": false
   },
   "id": "a8f750d1db80df92",
   "execution_count": null
  },
  {
   "cell_type": "markdown",
   "source": [
    "# Imports\n",
    "\n",
    "First, we need to import the necessary packages. We will use the `datasets` module from `sklearn` to load the Iris dataset, the `train_test_split` function to split the dataset into training and testing sets, and the `MinMaxScaler` to scale the data. We will also import the `FixedSizeSVC` model from the `matchcake.ml.ml_kernel` module and the `FermionicPQCKernel` from the `matchcake.ml.kernels` module."
   ],
   "metadata": {
    "collapsed": false
   },
   "id": "e977bb6969a6813b"
  },
  {
   "cell_type": "code",
   "execution_count": null,
   "id": "initial_id",
   "metadata": {
    "collapsed": true
   },
   "outputs": [],
   "source": [
    "from sklearn import datasets\n",
    "from sklearn.model_selection import train_test_split\n",
    "from sklearn.preprocessing import MinMaxScaler\n",
    "from matchcake.ml.ml_kernel import FixedSizeSVC, FermionicPQCKernel\n",
    "from matchcake.ml.visualisation import ClassificationVisualizer"
   ]
  },
  {
   "cell_type": "markdown",
   "source": [
    "# Parameters\n",
    "\n",
    "We will define our hyperparameters here. We will use 4 qubits to encode the data."
   ],
   "metadata": {
    "collapsed": false
   },
   "id": "75a3fa216f716059"
  },
  {
   "cell_type": "code",
   "outputs": [],
   "source": [
    "n_qubits = 4"
   ],
   "metadata": {
    "collapsed": false
   },
   "id": "d618a61b94c31f1c",
   "execution_count": null
  },
  {
   "cell_type": "markdown",
   "source": [
    "# Load the data\n",
    "\n",
    "We will load the Iris dataset and scale the data to the range [0, 1]."
   ],
   "metadata": {
    "collapsed": false
   },
   "id": "6852c59da522a797"
  },
  {
   "cell_type": "code",
   "outputs": [],
   "source": [
    "dataset = datasets.load_iris(as_frame=True)\n",
    "X, y = dataset.data, dataset.target"
   ],
   "metadata": {
    "collapsed": false
   },
   "id": "10e2aa5f7c4fef41",
   "execution_count": null
  },
  {
   "cell_type": "code",
   "outputs": [],
   "source": [
    "X = MinMaxScaler(feature_range=(0, 1)).fit_transform(X)"
   ],
   "metadata": {
    "collapsed": false
   },
   "id": "4e59b937c4a95919",
   "execution_count": null
  },
  {
   "cell_type": "markdown",
   "source": [
    "# Split the data\n",
    "\n",
    "We will split the data into training and testing sets."
   ],
   "metadata": {
    "collapsed": false
   },
   "id": "7f526e976402386b"
  },
  {
   "cell_type": "code",
   "outputs": [],
   "source": [
    "x_train, x_test, y_train, y_test = train_test_split(X, y, test_size=0.2, random_state=0)"
   ],
   "metadata": {
    "collapsed": false
   },
   "id": "611451f7eec524c9",
   "execution_count": null
  },
  {
   "cell_type": "markdown",
   "source": [
    "# Build the model\n",
    "\n",
    "We will build the model using the `FixedSizeSVC` model and the `FermionicPQCKernel`."
   ],
   "metadata": {
    "collapsed": false
   },
   "id": "837a5e871b5b30a1"
  },
  {
   "cell_type": "code",
   "outputs": [],
   "source": [
    "model = FixedSizeSVC(kernel_cls=FermionicPQCKernel, kernel_kwargs=dict(size=n_qubits), random_state=0)"
   ],
   "metadata": {
    "collapsed": false
   },
   "id": "60b57c796bd6f5f9",
   "execution_count": null
  },
  {
   "cell_type": "markdown",
   "source": [
    "# Train the model\n",
    "\n",
    "We will train the model using the training data."
   ],
   "metadata": {
    "collapsed": false
   },
   "id": "68f3bdf9af9f4321"
  },
  {
   "cell_type": "code",
   "outputs": [],
   "source": [
    "model.fit(x_train, y_train)"
   ],
   "metadata": {
    "collapsed": false
   },
   "id": "1fcd1bc1727fe2ae",
   "execution_count": null
  },
  {
   "cell_type": "markdown",
   "source": [
    "# Draw the kernel\n",
    "\n",
    "We can draw the kernel to visualize the fermionic RXX and RZZ gates."
   ],
   "metadata": {
    "collapsed": false
   },
   "id": "198f8b382eabe149"
  },
  {
   "cell_type": "code",
   "outputs": [],
   "source": [
    "model.kernels[0].draw_mpl()"
   ],
   "metadata": {
    "collapsed": false
   },
   "id": "9af11671843f5593",
   "execution_count": null
  },
  {
   "cell_type": "markdown",
   "source": [
    "# Evaluate the model\n",
    "\n",
    "We will evaluate the model using the testing data."
   ],
   "metadata": {
    "collapsed": false
   },
   "id": "fba9d90d639c75e5"
  },
  {
   "cell_type": "code",
   "outputs": [],
   "source": [
    "test_accuracy = model.score(x_test, y_test)\n",
    "print(f\"Test accuracy: {test_accuracy * 100:.2f}%\")"
   ],
   "metadata": {
    "collapsed": false
   },
   "id": "9c64c12be7327a97",
   "execution_count": null
  },
  {
   "cell_type": "markdown",
   "source": [
    "# Visualize the results\n",
    "\n",
    "We can visualize the decision boundaries of the model."
   ],
   "metadata": {
    "collapsed": false
   },
   "id": "8d50772b1367b66b"
  },
  {
   "cell_type": "code",
   "outputs": [],
   "source": [
    "viz = ClassificationVisualizer(x=X, n_pts=1_000)\n",
    "fig, ax, y_pred = viz.plot_2d_decision_boundaries(\n",
    "    model=model, y=y, legend_labels=getattr(dataset, \"target_names\", None), show=True\n",
    ")"
   ],
   "metadata": {
    "collapsed": false
   },
   "id": "dde4dac53aad0f1e",
   "execution_count": null
  },
  {
   "cell_type": "code",
   "outputs": [],
   "source": [],
   "metadata": {
    "collapsed": false
   },
   "id": "f184097c3cd49d09",
   "execution_count": null
  }
 ],
 "metadata": {
  "kernelspec": {
   "display_name": "Python 3",
   "language": "python",
   "name": "python3"
  },
  "language_info": {
   "codemirror_mode": {
    "name": "ipython",
    "version": 2
   },
   "file_extension": ".py",
   "mimetype": "text/x-python",
   "name": "python",
   "nbconvert_exporter": "python",
   "pygments_lexer": "ipython2",
   "version": "2.7.6"
  }
 },
 "nbformat": 4,
 "nbformat_minor": 5
}
